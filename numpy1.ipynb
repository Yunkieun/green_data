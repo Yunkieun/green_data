{
 "cells": [
  {
   "cell_type": "markdown",
   "id": "de1ce881",
   "metadata": {},
   "source": [
    "## Numpy : Numerical python\n",
    "### 수치계산용 파이썬 라이브러리"
   ]
  },
  {
   "cell_type": "code",
   "execution_count": 2,
   "id": "170a2aa3",
   "metadata": {},
   "outputs": [
    {
     "data": {
      "text/plain": [
       "array([3, 5, 7])"
      ]
     },
     "execution_count": 2,
     "metadata": {},
     "output_type": "execute_result"
    }
   ],
   "source": [
    "import numpy as np\n",
    "\n",
    "# 넘파이 배열(리스트) 생성하기\n",
    "a =np.arange(10)\n",
    "a\n",
    "\n",
    "a2 = np.arange(3, 9, 1)  # 1은 defult값이라 생략가능\n",
    "a2\n",
    "\n",
    "a3 = np.arange(3, 9, 2)\n",
    "a3  # 3, 5, 7"
   ]
  },
  {
   "cell_type": "code",
   "execution_count": 3,
   "id": "4df08ca0",
   "metadata": {},
   "outputs": [
    {
     "data": {
      "text/plain": [
       "array([1, 2, 3, 4])"
      ]
     },
     "execution_count": 3,
     "metadata": {},
     "output_type": "execute_result"
    }
   ],
   "source": [
    "# 넘파이 배열(리스트) 생성하기\n",
    "# np.array() 함수 사용\n",
    "b = [1, 2, 3, 4]\n",
    "arr = np.array(b)\n",
    "arr"
   ]
  }
 ],
 "metadata": {
  "kernelspec": {
   "display_name": "Python 3 (ipykernel)",
   "language": "python",
   "name": "python3"
  },
  "language_info": {
   "codemirror_mode": {
    "name": "ipython",
    "version": 3
   },
   "file_extension": ".py",
   "mimetype": "text/x-python",
   "name": "python",
   "nbconvert_exporter": "python",
   "pygments_lexer": "ipython3",
   "version": "3.10.9"
  }
 },
 "nbformat": 4,
 "nbformat_minor": 5
}
